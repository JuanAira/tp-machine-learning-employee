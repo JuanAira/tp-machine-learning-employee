{
 "cells": [
  {
   "cell_type": "markdown",
   "id": "409fd606-e666-4f85-a1d2-54fa8e82c8da",
   "metadata": {},
   "source": [
    "1. Listado de variables y selección\n",
    "    - ~~Por cada variable explicar en una oración el contenido de dicha variable y definir si será utilizada como variable de entrada, de salida, o no será utilizada.~~\\\n",
    "    - ~~Para la variable de salida especificar los valores posibles que puede tener.~~\n",
    "    - ~~Por cada variable que no se vaya a utilizar, explicar brevemente el motivo.~~\n",
    "2. Análisis detallado de un conjunto de variables\n",
    "    - ~~Para la variable de salida, explicar y graficar su distribución. Analizar posibles consecuencias o consideraciones a tener en cuenta.~~\\\n",
    "    - ~~Realizar un análisis individual de cada variable de entrada que será utilizada. A partir del mismo debería poder conocerse la distribución de los datos, si existen valores raros, su relación con la variable de salida, etc.~~\\\n",
    "    - ~~Para cada una de las variables de entrada elegidas, explicar si se debería realizar o no alguna transformación para poder utilizarla como entrada de un modelo y por qué.~~\\\n",
    "    - ~~Analizar si las variables de entrada seleccionadas presentan valores nulos y/o extremos. En caso de encontrar dichas condiciones, indicar qué tratamiento se podría darle a las mismas y por qué.~~\\\n",
    "    ~~Verificar si existen variables altamente correlacionadas linealmente. En dicho caso, explicar por qué considera que esto pasa.\n",
    "    \"Generar un listado de todas las posibles dudas/preguntas que quisieran realizarle al encargado de proveer los datos.~~\n",
    "3. Hipótesis sobre los datos\n",
    "    - Formular y describir de forma coloquial al menos una hipótesis sobre los datos que podría explicar el valor de la variable \\\"target\\\" bajo determinadas condiciones. Realizar un análisis para contrastar si dicha hipótesis se valida o, por el contrario, se refuta. **WIP**\n",
    "    - Describa y presente cualquier otro hallazgo que sea capaz de encontrar en los datos. Explique el impacto que podría tener en la creación de un modelo.\n",
    "    - Analice si la creación de nuevas variables a partir de los datos existentes puede ser beneficiosa para el problema presentado."
   ]
  },
  {
   "cell_type": "markdown",
   "id": "d8df364a-606f-45c6-a60f-1fcee96942ef",
   "metadata": {},
   "source": [
    "# Trabajo práctico Machine Learning "
   ]
  },
  {
   "cell_type": "markdown",
   "id": "02f28e68-967b-4628-bc82-456911eed2f1",
   "metadata": {},
   "source": [
    "#### Se utilizará este [dataset](https://www.kaggle.com/datasets/tawfikelmetwally/employee-dataset/) para realizar el trabajo práctico."
   ]
  },
  {
   "cell_type": "markdown",
   "id": "4d4cc584-e7e1-4bcb-b31f-7f00f8b2b511",
   "metadata": {},
   "source": [
    "1 # Listado de variables y selección\n",
    "\n",
    "## Variables de entrada\n",
    "\n",
    "1. **Education**\n",
    "   - **Descripción**: Nivel de educación del empleado.\n",
    "   - **Posibles valores**: Bachelors, Masters, PHD.\n",
    "   - **Uso**: Variable de entrada.\n",
    "   - **Motivo**: El nivel de educación puede influir en la probabilidad de que un empleado deje la empresa\n",
    "\n",
    "2. **JoiningYear**\n",
    "   - **Descripción**: Año en que el empleado se unió a la empresa.\n",
    "   - **Posibles valores**: 2017, 2013, 2014, 2016, 2015, 2012, 2018\n",
    "   - **Uso**: Variable de entrada.\n",
    "   - **Motivo**: El tiempo que un empleado ha estado en la empresa puede afectar su decisión de quedarse o irse.\n",
    "\n",
    "3. **City**\n",
    "   - **Descripción**: Ciudad en la que trabaja el empleado.\n",
    "   - **Posibles valores**: Bangalore, Pune, New Delhi\n",
    "   - **Uso**: Variable de entrada.\n",
    "   - **Motivo**: La ubicación geográfica puede tener un impacto en la retención de empleados.\n",
    "\n",
    "4. **PaymentTier**\n",
    "   - **Descripción**: Nivel de pago del empleado (1, 2 o 3).\n",
    "   - **Posibles valores**: 3, 1, 2\n",
    "   - **Uso**: Variable de entrada.\n",
    "   - **Motivo**: El nivel de pago puede influir en la satisfacción y retención del empleado.\n",
    "\n",
    "5. **Age**\n",
    "   - **Descripción**: Edad del empleado.\n",
    "   - **Posibles valores**: 34, 28, 38, 27, 24, 22, 23, 37, 32, 39, 29, 30, 36, 31, 25, 26, 40, 35, 33, 41\n",
    "   - **Uso**: Variable de entrada.\n",
    "   - **Motivo**: La edad puede ser un factor importante en la decisión de un empleado de dejar la empresa.\n",
    "\n",
    "6. **Gender**\n",
    "   - **Descripción**: Género del empleado.\n",
    "   - **Posibles valores**: Male, Female\n",
    "   - **Uso**: Variable de entrada.\n",
    "   - **Motivo**: El género puede influir en las decisiones de carrera y retención.\n",
    "\n",
    "7. **EverBenched**\n",
    "   - **Descripción**: Indica si el empleado ha estado alguna vez sin proyectos asignados.\n",
    "   - **Posibles valores**: No, Yes\n",
    "   - **Uso**: Variable de entrada.\n",
    "   - **Motivo**: Estar sin proyectos puede afectar la moral y la decisión de un empleado de dejar la empresa.\n",
    "\n",
    "8. **ExperienceInCurrentDomain**\n",
    "   - **Descripción**: Años de experiencia del empleado en su dominio actual.\n",
    "   - **Posibles valores**: 0, 3, 2, 5, 1, 4, 7, 6\n",
    "   - **Uso**: Variable de entrada.\n",
    "   - **Motivo**: La experiencia en el dominio actual puede influir en la estabilidad del empleo.\n",
    "\n",
    "## Variable Target\n",
    "\n",
    "9. **LeaveOrNot**\n",
    "   - **Descripción**: Indica si el empleado ha dejado la empresa (1) o no (0).\n",
    "   - **Posibles valores**: 0, 1\n",
    "   - **Uso**: Variable de salida.\n",
    "   - **Motivo**: Esta es la variable objetivo que estamos tratando de predecir. Los valores posibles son 0 (No dejó la empresa) y 1 (Dejó la empresa).\n",
    "\n",
    "## Variables no utilizadas\n",
    "\n",
    "No hay variables que no se vayan a utilizar, ya que todas parecen relevantes para el análisis de la retención de empleados.\n"
   ]
  },
  {
   "cell_type": "markdown",
   "id": "a99e2010-47d6-471f-9250-d5c4442f6314",
   "metadata": {},
   "source": [
    "# 2.  Análisis detallado de un conjunto de variables"
   ]
  },
  {
   "cell_type": "code",
   "execution_count": null,
   "id": "6d12af1e-32e5-4dde-82d0-a056842021fe",
   "metadata": {},
   "outputs": [],
   "source": [
    "# Imports\n",
    "\n",
    "import pandas as pd\n",
    "import numpy as np\n",
    "import matplotlib.pyplot as plt\n",
    "import seaborn as sns\n",
    "import re\n",
    "import scipy.stats as stats"
   ]
  },
  {
   "cell_type": "code",
   "execution_count": null,
   "id": "98207eac-d5a7-4852-977d-186db24f0195",
   "metadata": {},
   "outputs": [],
   "source": [
    "# Utils\n",
    "\n",
    "# Transform features to snake case\n",
    "def to_snake_case(name):\n",
    "    # Reemplaza espacios y caracteres especiales por guiones bajos\n",
    "    name = re.sub(r'[\\s]+', '_', name)  # Reemplaza espacios por guiones bajos\n",
    "    name = re.sub(r'(?<!^)(?<!_)(?<!\\s)(?<![A-Z])(?=[A-Z])', '_', name)\n",
    "    # Convierte a minúsculas y reemplaza múltiples guiones bajos consecutivos por uno solo\n",
    "    name = re.sub(r'_{2,}', '_', name)\n",
    "    return name.lower()"
   ]
  },
  {
   "cell_type": "code",
   "execution_count": null,
   "id": "7a0140cf-7e8b-4179-86bb-14d76cb7b0db",
   "metadata": {},
   "outputs": [],
   "source": [
    "# Cargar el conjunto de datos\n",
    "df_employee = pd.read_csv('employee.csv')\n",
    "\n",
    "# Renombrar columnas a snake case\n",
    "df_employee.columns = [to_snake_case(col) for col in df_employee.columns]\n",
    "\n",
    "# Mostrar las primeras filas del DataFrame para verificar los cambios\n",
    "df_employee.head()\n"
   ]
  },
  {
   "cell_type": "markdown",
   "id": "3a054ed6-a9fd-45a8-b2dd-2516a6cea1cb",
   "metadata": {},
   "source": [
    "## Análisis previo"
   ]
  },
  {
   "cell_type": "code",
   "execution_count": null,
   "id": "e0f81697-60f2-4bc4-83b6-c91ae3098fe8",
   "metadata": {},
   "outputs": [],
   "source": [
    "print(f'El dataset cuenta con {df_employee.shape[0]} filas y {df_employee.shape[1]} columnas.')"
   ]
  },
  {
   "cell_type": "markdown",
   "id": "019a9d7e-b19c-43e3-9f24-2a2c5391ca29",
   "metadata": {},
   "source": [
    "### Valores únicos por feature"
   ]
  },
  {
   "cell_type": "code",
   "execution_count": null,
   "id": "6a04ceb8-2633-4290-9c62-c605177a75b7",
   "metadata": {},
   "outputs": [],
   "source": [
    "# Obtener valores únicos por columna\n",
    "for column in df_employee.columns:\n",
    "    print(f'{column}: {df_employee[column].unique()}')"
   ]
  },
  {
   "cell_type": "markdown",
   "id": "33c00e5e-131a-448b-9370-a81b2617e3c3",
   "metadata": {},
   "source": [
    "### Tipos de datos de cada feature"
   ]
  },
  {
   "cell_type": "code",
   "execution_count": null,
   "id": "745a1251-e79a-471b-8daa-188de8e51b04",
   "metadata": {},
   "outputs": [],
   "source": [
    "print(df_employee.dtypes.reset_index(name='type').rename(columns={'index': 'column'}).set_index('column'))\n"
   ]
  },
  {
   "cell_type": "markdown",
   "id": "7ef4db03-0536-4914-b597-de11b750b6bd",
   "metadata": {},
   "source": [
    "### Cantidad de nulos por feature"
   ]
  },
  {
   "cell_type": "code",
   "execution_count": null,
   "id": "6a1f607b-4de8-4a58-b156-1b51cf2d117c",
   "metadata": {},
   "outputs": [],
   "source": [
    "# Verificar la cantidad de valores nulos en cada columna\n",
    "df_employee.isnull().sum()"
   ]
  },
  {
   "cell_type": "markdown",
   "id": "3a71a0c8-6918-42b7-a91a-6694503990ff",
   "metadata": {},
   "source": [
    "### Estadísticos generales"
   ]
  },
  {
   "cell_type": "code",
   "execution_count": null,
   "id": "186edf8d-9623-47ec-b213-b58491e4af7d",
   "metadata": {},
   "outputs": [],
   "source": [
    "df_employee.describe().round(2)"
   ]
  },
  {
   "cell_type": "markdown",
   "id": "8fcc047e-22f7-4887-9b4c-a6e8331bafb2",
   "metadata": {},
   "source": [
    "### 1. Tendencias de Contratación (`joining_year`)\n",
    "La mayoría de los empleados se unieron entre 2013 y 2017, con una media de 2015, indicando que la empresa ha tenido una política de contratación activa durante este período, lo que sugiere que la antigüedad en la empresa podría ser una característica importante a considerar en un modelo predictivo sobre la rotación de empleados.\n",
    "\n",
    "### 2. Niveles de Pago (`payment_tier`)\n",
    "La mayoría de los empleados están en el nivel 3 de pago, con una media de 2.70 y una desviación estándar baja (0.56), lo que sugiere que el nivel de pago podría estar correlacionado con la retención y la experiencia, y que explorar cómo estos niveles afectan la rotación de empleados podría ser útil.\n",
    "\n",
    "### 3. Edad (`age`)\n",
    "La edad promedio es de 29.39 años, con un rango de 22 a 41 años y la mayoría de los empleados tienen entre 26 y 32 años, y podemos inferir que la edad puede influir en la experiencia y la estabilidad en el trabajo.\n",
    "\n",
    "### 4. Experiencia en el Dominio Actual (`experience_in_current_domain`)\n",
    "La experiencia promedio en el dominio actual es de 2.91 años, con un rango de 0 a 7 años y la mayoría de los empleados tienen entre 2 y 4 años de experiencia.\n",
    "\n",
    "### 5. Rotación de Empleados (`leave_or_not`)\n",
    "Aproximadamente el 34% de los empleados han dejado la empresa, con una distribución equilibrada entre los que se quedan y los que se van.\n"
   ]
  },
  {
   "cell_type": "code",
   "execution_count": null,
   "id": "7fb23574-afa2-4691-924e-e67859c159a7",
   "metadata": {},
   "outputs": [],
   "source": [
    "# Calcular la distribución de la variable de salida\n",
    "leaveornot_distribution = df_employee['leave_or_not'].value_counts(normalize=True)\n",
    "print(leaveornot_distribution)"
   ]
  },
  {
   "cell_type": "markdown",
   "id": "c057089e-efec-42ea-bf90-cf4a5c3a9352",
   "metadata": {},
   "source": [
    "### Conclusiones \n",
    "\n",
    "- El 65.6% de los empleados del dataset no han dejado la empresa, mientras que 34.4% de los empleados han dejado la empresa.\n",
    "\n",
    "- Aunque no es un equilibrio perfecto, la distribución entre los que se quedan y los que se van no está extremadamente desbalanceada. Sin embargo, aún hay una diferencia notable, con una mayoría que se queda.\n",
    "\n",
    "- La retención de empleados parece ser relativamente alta, con más de la mitad de los empleados permaneciendo en la empresa. Esto podría indicar una buena satisfacción laboral o políticas efectivas de retención."
   ]
  },
  {
   "cell_type": "markdown",
   "id": "11050b11-b75a-430d-98e7-a9629e1a0f0a",
   "metadata": {},
   "source": [
    "### Para la variable de salida, explicar y graficar su distribución. Analizar posibles consecuencias o consideraciones a tener en cuenta."
   ]
  },
  {
   "cell_type": "markdown",
   "id": "320421b6-4f8c-4b38-9af9-4cdd2cb790e3",
   "metadata": {},
   "source": [
    "1. Descripción de la Variable de Salida\n",
    "La variable de salida leave_or_not es binaria y representa si un empleado ha dejado la empresa (1) o no (0). Analizar su distribución te ayudará a entender el equilibrio entre las clases y las posibles implicaciones para el modelado.\n",
    "\n"
   ]
  },
  {
   "cell_type": "code",
   "execution_count": null,
   "id": "8cef83ca-9fe2-4cd4-8d3e-20716abdb49c",
   "metadata": {},
   "outputs": [],
   "source": [
    "# Graficar la distribución de `leave_or_not`\n",
    "plt.figure(figsize=(8, 6))\n",
    "sns.countplot(x='leave_or_not', data=df_employee, hue='leave_or_not', palette='viridis', legend=False)\n",
    "plt.title('Distribución de la variable de salida: leave_or_not')\n",
    "plt.xlabel('Dejó la empresa')\n",
    "plt.ylabel('Número de empleados')\n",
    "plt.xticks(ticks=[0, 1], labels=['No', 'Sí'])\n",
    "plt.show()"
   ]
  },
  {
   "cell_type": "markdown",
   "id": "8755090e-d59e-4734-9947-e53182412457",
   "metadata": {},
   "source": [
    "# Preprocesamiento de datos"
   ]
  },
  {
   "cell_type": "markdown",
   "id": "81c84116-7d6a-4008-ac14-6aa53a647e08",
   "metadata": {},
   "source": [
    "### Feature gender\n",
    "\n",
    "Es necesario realizar la comprobación y conversión de la columna *gender* a valor numerico por varias razones:\n",
    "\n",
    "Si bien como vimos anteriormente no tenemos datos nulls en esta columna. Los modelos de machine learning generalmente requieren que las variables categóricas sean numéricas, y convertir Male a 1 y Female a 0 estandariza esta variable. Además, las conversiones a valores numéricos permiten que los datos sean procesados de manera más eficiente."
   ]
  },
  {
   "cell_type": "code",
   "execution_count": null,
   "id": "d670d174-9252-4649-ba54-69f67961ca75",
   "metadata": {},
   "outputs": [],
   "source": [
    "# Comprobación y conversión de la columna `gender`\n",
    "df_employee['gender'] = df_employee['gender'].apply(lambda x: 1 if x == 'Male' else (0 if x == 'Female' else x))\n",
    "\n",
    "# Si el valor es 'Male', lo convierte en 1.\n",
    "# Si el valor es 'Female', lo convierte en 0.\n",
    "    \n",
    "# Obtener una muestra aleatoria del DataFrame\n",
    "df_employee.sample(5)\n"
   ]
  },
  {
   "cell_type": "markdown",
   "id": "d9c54d94-4389-4ca2-8ed4-fc08816c05b9",
   "metadata": {},
   "source": [
    "### Feature ever_benched\n",
    "\n",
    "Convertir los valores de ever_benched a booleanos (True o False) asegura que la columna tenga un tipo de datos consistente. \n",
    "\n",
    "- Claridad: Los valores booleanos proporcionan una indicación clara del estado de \"benched\".\n",
    "- Eficiencia: Las operaciones y análisis sobre datos booleanos pueden ser más eficientes y directos.\n",
    "- Estandarización: Mantiene la columna ever_benched en un formato estandarizado que es comúnmente utilizado en el análisis de datos y machine learning."
   ]
  },
  {
   "cell_type": "code",
   "execution_count": null,
   "id": "34149921-ab7b-4c53-9b6e-1d627ff729fc",
   "metadata": {},
   "outputs": [],
   "source": [
    "# Comprobación y conversión de la columna `ever_benched`\n",
    "df_employee['ever_benched'] = df_employee['ever_benched'].apply(lambda x: 1 if x == 'Yes' else (0 if x == 'No' else x))\n",
    "\n",
    "# Obtener una muestra aleatoria del DataFrame\n",
    "df_employee.sample(5)"
   ]
  },
  {
   "cell_type": "markdown",
   "id": "2ebb6177-b684-471c-a9f1-d698f08f6338",
   "metadata": {},
   "source": [
    "### Feature education y city\n",
    "\n",
    "Es necesario realizar la codificación One-Hot en las columnas *education* y *city* por las siguientes razones:\n",
    "- No suposiciones implícitas: Al usar columnas binarias, se evita cualquier suposición sobre una relación ordinal entre las categorías.\n",
    "- Preparación para modelos: Facilita el uso de algoritmos de machine learning que requieren datos numéricos.\n",
    "- Claridad y simplicidad: Hace que las features education y city sean más claras y fáciles de interpretar en el análisis de datos.\n",
    "- Flexibilidad: Permite a los modelos captar mejor las relaciones entre las categorías y otras características.\n",
    "\n",
    "Realizar la codificación One-Hot es una práctica estándar en el preprocesamiento de datos para asegurar que los modelos de machine learning puedan trabajar de manera eficiente."
   ]
  },
  {
   "cell_type": "code",
   "execution_count": null,
   "id": "8448080a-b0a9-42eb-bd81-46019d6363e3",
   "metadata": {},
   "outputs": [],
   "source": [
    "# Codificación One-Hot para las columnas 'education' y 'city'\n",
    "df_employee = pd.get_dummies(df_employee, columns=['education', 'city'])\n",
    "\n",
    "# Renombrar columnas a snake case\n",
    "df_employee.columns = [to_snake_case(col) for col in df_employee.columns]\n",
    "\n",
    "# Convertir las columnas a 0 o 1\n",
    "columns_to_convert = [\n",
    "    'education_bachelors', 'education_masters', 'education_phd',\n",
    "    'city_bangalore', 'city_new_delhi', 'city_pune'\n",
    "]\n",
    "\n",
    "df_employee[columns_to_convert] = df_employee[columns_to_convert].astype(int)\n",
    "\n",
    "# Obtener una muestra aleatoria del DataFrame\n",
    "df_employee.sample(5)"
   ]
  },
  {
   "cell_type": "markdown",
   "id": "fca06a60-c814-422c-aaf9-9d5140dace23",
   "metadata": {},
   "source": [
    "## Análisis individual de cada variable de entrada que será utilizada"
   ]
  },
  {
   "cell_type": "markdown",
   "id": "48360aa8-45d2-4e2e-9215-5d439c528686",
   "metadata": {},
   "source": [
    " ### Año de Ingreso (joining_year)"
   ]
  },
  {
   "cell_type": "code",
   "execution_count": null,
   "id": "46c5614c-27bc-4f3c-b3dd-18024fa826a6",
   "metadata": {},
   "outputs": [],
   "source": [
    "# Distribución de la variable joining_year\n",
    "plt.figure(figsize=(10, 6))\n",
    "sns.histplot(df_employee['joining_year'], bins=10, kde=True)\n",
    "plt.title('Distribución de año de ingreso')\n",
    "plt.xlabel('Año de ingreso')\n",
    "plt.ylabel('Frecuencia')\n",
    "plt.show()"
   ]
  },
  {
   "cell_type": "code",
   "execution_count": null,
   "id": "dc5ea457-1de1-427f-b499-490e4a660f95",
   "metadata": {},
   "outputs": [],
   "source": [
    "# Relación entre joining_year y leave_or_not\n",
    "plt.figure(figsize=(10, 6))\n",
    "sns.boxplot(x='leave_or_not', hue='leave_or_not', y='joining_year', data=df_employee, palette='viridis')\n",
    "plt.title('Relación entre año de ingreso y rotación de empleados')\n",
    "plt.xlabel('Rotación de empleados')\n",
    "plt.ylabel('Año de ingreso')\n",
    "plt.show()"
   ]
  },
  {
   "cell_type": "markdown",
   "id": "a6b409e8-1eca-4138-b3b6-44daf34b12ca",
   "metadata": {},
   "source": [
    "Conclusiones:\n",
    "\n",
    "- La mayoría de los empleados se unieron entre 2013 y 2017.\n",
    "- La antigüedad en la empresa puede ser un factor importante a considerar en la predicción de la rotación."
   ]
  },
  {
   "cell_type": "markdown",
   "id": "c98dd961-ac09-48f1-a345-84ad73682d8e",
   "metadata": {},
   "source": [
    "## Nivel de Pago (payment_tier)"
   ]
  },
  {
   "cell_type": "code",
   "execution_count": null,
   "id": "268e1c78-81fb-45f6-9070-633dd9660d38",
   "metadata": {},
   "outputs": [],
   "source": [
    "# Distribución de la variable payment_tier\n",
    "plt.figure(figsize=(10, 6))\n",
    "sns.countplot(x='payment_tier', hue= 'payment_tier', data=df_employee, palette='viridis')\n",
    "plt.title('Distribución de nivel de pago')\n",
    "plt.xlabel('Nivel de pago')\n",
    "plt.ylabel('Frecuencia')\n",
    "plt.show()"
   ]
  },
  {
   "cell_type": "markdown",
   "id": "c9e9a010-510a-4841-a6af-39b9460c6581",
   "metadata": {},
   "source": [
    "Conclusiones:\n",
    "\n",
    "- La mayoría de los empleados están en el nivel 3 de pago.\n",
    "- Puede existir una relación entre el nivel de pago y la probabilidad de rotación."
   ]
  },
  {
   "cell_type": "markdown",
   "id": "e451b973-bdc0-4d6b-99e9-6919e7f75b4c",
   "metadata": {},
   "source": [
    " ## Edad (age)"
   ]
  },
  {
   "cell_type": "code",
   "execution_count": null,
   "id": "1f28cd88-f8e1-4719-b7b9-6ee88ab30be9",
   "metadata": {},
   "outputs": [],
   "source": [
    "# Distribución de la variable age\n",
    "plt.figure(figsize=(10, 6))\n",
    "sns.histplot(df_employee['age'], bins=10, kde=True)\n",
    "plt.title('Distribución de edad')\n",
    "plt.xlabel('Edad')\n",
    "plt.ylabel('Frecuencia')\n",
    "plt.show()"
   ]
  },
  {
   "cell_type": "code",
   "execution_count": null,
   "id": "4ca8c677-2353-408b-9553-3fabe459d97d",
   "metadata": {},
   "outputs": [],
   "source": [
    "# Relación entre age y leave_or_not\n",
    "plt.figure(figsize=(10, 6))\n",
    "sns.boxplot(x='leave_or_not', hue='leave_or_not', y='age', data=df_employee, palette='viridis')\n",
    "plt.title('Relación entre edad y rotación de empleados')\n",
    "plt.xlabel('Rotación de empleados')\n",
    "plt.ylabel('Edad')\n",
    "plt.show()"
   ]
  },
  {
   "cell_type": "markdown",
   "id": "703c0064-631c-4d19-a06f-26cdb056e931",
   "metadata": {},
   "source": [
    "Conclusiones:\n",
    "\n",
    "- La edad promedio de los empleados es de alrededor de 29 años.\n",
    "- La edad puede ser un factor determinante en la estabilidad laboral."
   ]
  },
  {
   "cell_type": "markdown",
   "id": "949386c7-9e64-4243-9cba-5a5393469b82",
   "metadata": {},
   "source": [
    "## Género (gender)"
   ]
  },
  {
   "cell_type": "code",
   "execution_count": null,
   "id": "69845019-c44b-4b49-92a5-14a4e54019a2",
   "metadata": {},
   "outputs": [],
   "source": [
    "# Distribución de la variable gender\n",
    "plt.figure(figsize=(10, 6))\n",
    "sns.countplot(x='gender', hue= 'gender', data=df_employee, palette='viridis')\n",
    "plt.title('Distribución de género')\n",
    "plt.xlabel('Género')\n",
    "plt.ylabel('Frecuencia')\n",
    "plt.xticks([0, 1], ['Masculino', 'Femenino'])\n",
    "plt.show()"
   ]
  },
  {
   "cell_type": "code",
   "execution_count": null,
   "id": "e7e9bf83-6ee5-43aa-b814-fa35155a5541",
   "metadata": {},
   "outputs": [],
   "source": [
    "# Relación entre gender y leave_or_not\n",
    "plt.figure(figsize=(10, 6))\n",
    "sns.countplot(x='gender', hue='leave_or_not', data=df_employee, palette='viridis')\n",
    "plt.title('Relación entre Género y Rotación de Empleados')\n",
    "plt.xlabel('Género')\n",
    "plt.ylabel('Frecuencia')\n",
    "plt.xticks([0, 1], ['Masculino', 'Femenino'])\n",
    "plt.show()"
   ]
  },
  {
   "cell_type": "markdown",
   "id": "d6e10c2d-e8a4-4554-a281-c8226705167f",
   "metadata": {},
   "source": [
    "Conclusiones:\n",
    "\n",
    "- Existe una distribución relativamente equilibrada entre géneros.\n",
    "- Puede ser útil investigar si el género tiene una influencia significativa en la rotación."
   ]
  },
  {
   "cell_type": "markdown",
   "id": "58718168-5128-4710-904a-82259db6dd97",
   "metadata": {},
   "source": [
    "## Experiencia en el Dominio Actual (experience_in_current_domain)"
   ]
  },
  {
   "cell_type": "code",
   "execution_count": null,
   "id": "7605361b-ea59-479e-8793-9e8b8db25856",
   "metadata": {},
   "outputs": [],
   "source": [
    "# Distribución de la variable experience_in_current_domain\n",
    "plt.figure(figsize=(10, 6))\n",
    "sns.histplot(df_employee['experience_in_current_domain'], bins=10, kde=True)\n",
    "plt.title('Distribución de experiencia en el dominio actual')\n",
    "plt.xlabel('Experiencia en el dominio actual (años)')\n",
    "plt.ylabel('Frecuencia')\n",
    "plt.show()"
   ]
  },
  {
   "cell_type": "code",
   "execution_count": null,
   "id": "575b6d60-6413-47f2-9f6c-dbd9623e38df",
   "metadata": {},
   "outputs": [],
   "source": [
    "# Relación entre experience_in_current_domain y leave_or_not\n",
    "plt.figure(figsize=(10, 6))\n",
    "sns.boxplot(x='leave_or_not', hue='leave_or_not', y='experience_in_current_domain', data=df_employee, palette='viridis')\n",
    "plt.title('Relación entre experiencia en el dominio actual y rotación de empleados')\n",
    "plt.xlabel('Rotación de empleados')\n",
    "plt.ylabel('Experiencia en el dominio actual (años)')\n",
    "plt.show()"
   ]
  },
  {
   "cell_type": "markdown",
   "id": "c082aab8-a898-4efb-8bba-b88767da34dc",
   "metadata": {},
   "source": [
    "Conclusiones:\n",
    "\n",
    "- La mayoría de los empleados tienen entre 2 y 4 años de experiencia en su dominio actual.\n",
    "- La experiencia en el dominio puede estar correlacionada con la retención de empleados."
   ]
  },
  {
   "cell_type": "markdown",
   "id": "776cfb86-9620-4923-a7ad-eaad8f006227",
   "metadata": {},
   "source": [
    "## ever_benched"
   ]
  },
  {
   "cell_type": "code",
   "execution_count": null,
   "id": "17b95679-27b2-4369-99cd-976d793641da",
   "metadata": {},
   "outputs": [],
   "source": [
    "# Distribución de la variable ever_benched\n",
    "plt.figure(figsize=(10, 6))\n",
    "sns.countplot(x='ever_benched', hue= 'ever_benched', data=df_employee, palette='viridis')\n",
    "plt.title('Distribución de ever benched')\n",
    "plt.xlabel('Ever benched')\n",
    "plt.ylabel('Frecuencia')\n",
    "plt.xticks([False, True], ['No', 'Yes'])\n",
    "plt.show()"
   ]
  },
  {
   "cell_type": "code",
   "execution_count": null,
   "id": "7048acdb-625d-4b47-9dd7-af6993406d61",
   "metadata": {},
   "outputs": [],
   "source": [
    "# Relación entre ever_benched y leave_or_not\n",
    "plt.figure(figsize=(10, 6))\n",
    "sns.countplot(x='ever_benched', hue='leave_or_not', data=df_employee, palette='viridis')\n",
    "plt.title('Relación entre ever benched y rotación de empleados')\n",
    "plt.xlabel('Ever benched')\n",
    "plt.ylabel('Frecuencia')\n",
    "plt.xticks([False, True], ['No', 'Yes'])\n",
    "plt.show()"
   ]
  },
  {
   "cell_type": "markdown",
   "id": "1a53723e-ee3d-44d2-91cf-dc3cc5a9511f",
   "metadata": {},
   "source": [
    "Conclusiones:\n",
    "\n",
    "- La mayoría de los empleados no han sido 'benched'.\n",
    "- Ser 'benched' podría tener un impacto significativo en la rotación de empleados."
   ]
  },
  {
   "cell_type": "markdown",
   "id": "8724176c-87b8-41ea-87e0-4e518f826840",
   "metadata": {},
   "source": [
    "## Educación (education)"
   ]
  },
  {
   "cell_type": "code",
   "execution_count": null,
   "id": "a01e5d99-5073-4740-9521-bea47497f4cf",
   "metadata": {},
   "outputs": [],
   "source": [
    "# Distribución de la variable education\n",
    "plt.figure(figsize=(10, 6))\n",
    "education_counts = df_employee[['education_bachelors', 'education_masters', 'education_phd']].sum()\n",
    "education_counts.plot(kind='bar')\n",
    "plt.title('Distribución de nivel de educación')\n",
    "plt.xlabel('Nivel de educación')\n",
    "plt.ylabel('Frecuencia')\n",
    "plt.xticks([0, 1, 2], ['Bachelors', 'Masters', 'PhD'])\n",
    "plt.show()"
   ]
  },
  {
   "cell_type": "code",
   "execution_count": null,
   "id": "e0436dd3-8ba3-4f26-9025-a017efeb3fb3",
   "metadata": {},
   "outputs": [],
   "source": [
    "# Relación entre education y leave_or_not\n",
    "plt.figure(figsize=(10, 6))\n",
    "sns.countplot(x='education', hue='leave_or_not', data=df_employee.melt(id_vars='leave_or_not', value_vars=['education_bachelors', 'education_masters', 'education_phd'], var_name='education', value_name='value'), palette='viridis')\n",
    "plt.title('Relación entre educación y rotación de empleados')\n",
    "plt.xlabel('Nivel de educación')\n",
    "plt.ylabel('Frecuencia')\n",
    "plt.show()"
   ]
  },
  {
   "cell_type": "markdown",
   "id": "47cc3fb2-5515-407d-a64a-7452e328c397",
   "metadata": {},
   "source": [
    "Conclusiones:\n",
    "\n",
    "- La mayoría de los empleados tienen un título de bachiller o una maestría.\n",
    "- Es importante analizar si el nivel educativo afecta la rotación de empleados."
   ]
  },
  {
   "cell_type": "markdown",
   "id": "481a37ec-ec9e-47da-9488-c217e8085825",
   "metadata": {},
   "source": [
    "## Ciudad (city)"
   ]
  },
  {
   "cell_type": "code",
   "execution_count": null,
   "id": "8f761a69-7861-4259-a84c-ac2ee05776ed",
   "metadata": {},
   "outputs": [],
   "source": [
    "# Distribución de la variable city\n",
    "plt.figure(figsize=(10, 6))\n",
    "city_counts = df_employee[['city_bangalore', 'city_new_delhi', 'city_pune']].sum()\n",
    "city_counts.plot(kind='bar')\n",
    "plt.title('Distribución de ciudades')\n",
    "plt.xlabel('Ciudad')\n",
    "plt.ylabel('Frecuencia')\n",
    "plt.xticks([0, 1, 2], ['Bangalore', 'New Delhi', 'Pune'])\n",
    "plt.show()"
   ]
  },
  {
   "cell_type": "code",
   "execution_count": null,
   "id": "c5290045-5fd8-471e-a47a-3e6075f46685",
   "metadata": {},
   "outputs": [],
   "source": [
    "# Relación entre city y leave_or_not\n",
    "plt.figure(figsize=(10, 6))\n",
    "sns.countplot(x='city', hue='leave_or_not', data=df_employee.melt(id_vars='leave_or_not', value_vars=['city_bangalore', 'city_new_delhi', 'city_pune'], var_name='city', value_name='value'), palette='viridis')\n",
    "plt.title('Relación entre ciudad y rotación de empleados')\n",
    "plt.xlabel('Ciudad')\n",
    "plt.ylabel('Frecuencia')\n",
    "plt.show()"
   ]
  },
  {
   "cell_type": "markdown",
   "id": "b3e23f33-dd03-466a-9333-ab4f8bb2735c",
   "metadata": {},
   "source": [
    "Conclusiones:\n",
    "\n",
    "- La distribución de empleados es bastante uniforme entre las ciudades principales."
   ]
  },
  {
   "cell_type": "markdown",
   "id": "22d2ded4-90e4-47dc-8bd0-1b1d6b48c33d",
   "metadata": {},
   "source": [
    "## Outliders"
   ]
  },
  {
   "cell_type": "code",
   "execution_count": null,
   "id": "6a0bd823-fa11-4857-a0d5-42e4d3647868",
   "metadata": {},
   "outputs": [],
   "source": [
    "# Filtrar solo las columnas numéricas\n",
    "df_numeric = df_employee.select_dtypes(include=[np.number])\n",
    "\n",
    "# Calcular Q1 y Q3\n",
    "Q1 = df_numeric.quantile(0.25)\n",
    "Q3 = df_numeric.quantile(0.75)\n",
    "IQR = Q3 - Q1\n",
    "\n",
    "# Identificar valores fuera del rango de 1.5*IQR\n",
    "outliers = ((df_numeric < (Q1 - 1.5 * IQR)) | (df_numeric > (Q3 + 1.5 * IQR))).sum()\n",
    "print(outliers)\n"
   ]
  },
  {
   "cell_type": "code",
   "execution_count": null,
   "id": "16360fc1-6c39-4b5b-ad8e-c33ca698036a",
   "metadata": {},
   "outputs": [],
   "source": [
    "# Distribución de la variable payment_tier, education_bachelors, city_new_delhi, education_masters, ever_benched\n",
    "columns_to_check = [\n",
    "    'payment_tier', 'education_bachelors', 'city_new_delhi',\n",
    "    'education_masters', 'ever_benched'\n",
    "]\n",
    "\n",
    "for column in columns_to_check:\n",
    "    print(f\"Value counts for {column}:\\n{df_employee[column].value_counts()}\\n\")\n"
   ]
  },
  {
   "cell_type": "markdown",
   "id": "61d80e82-139f-48f6-b26b-a961765787b2",
   "metadata": {
    "jp-MarkdownHeadingCollapsed": true
   },
   "source": [
    "### Conclusión\n",
    " \n",
    "No es necesario preocuparse por outliers en la variable **payment_tier**, ya que la detección de outliers es inapropiada para variables categóricas u ordinales con valores definidos y limitados como 1, 2 y 3. La distribución simplemente muestra que la mayoría de los empleados están en el nivel 3, lo cual es una característica natural del dataset y no un problema de datos.\n",
    "\n",
    "Para las variables **education_bachelors**, **city_new_delhi**, **education_masters**, y **ever_benched**, la distribución observada no indica un problema en los datos.\n",
    "\n",
    "- education_bachelors: La mayoría de los empleados tienen un título de licenciatura, lo cual es esperable en muchos contextos laborales, especialmente si se trata de un campo que tradicionalmente requiere un título universitario.\n",
    "\n",
    "- city_new_delhi: La menor cantidad de empleados en city_new_delhi en comparación con otras ciudades puede simplemente reflejar la distribución geográfica de la empresa, en lugar de un problema en los datos.\n",
    "\n",
    "- education_masters: Aunque hay menos empleados con una maestría en comparación con una licenciatura, esto es coherente con la tendencia general de que menos personas obtienen grados de educación avanzada.\n",
    "\n",
    "- ever_benched: La mayoría de los empleados nunca han sido \"benched\" (no asignados a proyectos), lo que podría indicar una alta tasa de ocupación en la empresa. Este no es un problema de datos, sino más bien una indicación de la eficiencia en la asignación de personal.\n",
    "\n",
    "En resumen, las distribuciones de estas variables son consistentes con lo que se podría esperar en un entorno laboral y no sugieren la presencia de outliers o problemas de calidad de datos.\n",
    "\n"
   ]
  },
  {
   "cell_type": "markdown",
   "id": "7a448509-14c4-4ff4-bbed-b076af1fbb19",
   "metadata": {},
   "source": [
    "## Matriz de correlación"
   ]
  },
  {
   "cell_type": "code",
   "execution_count": null,
   "id": "f0e85469-174c-49ab-8db8-061deb5052d1",
   "metadata": {},
   "outputs": [],
   "source": [
    "correlation_matrix = df_employee.corr()"
   ]
  },
  {
   "cell_type": "code",
   "execution_count": null,
   "id": "e5213abd-e315-412e-a8da-799d218d26fd",
   "metadata": {},
   "outputs": [],
   "source": [
    "plt.figure(figsize=(12, 8))\n",
    "sns.heatmap(correlation_matrix, annot=True, cmap='coolwarm')\n",
    "plt.title('Matriz de Correlación')\n",
    "plt.show()"
   ]
  },
  {
   "cell_type": "markdown",
   "id": "2720b399-8a77-4255-892c-9e9bb78c8ec0",
   "metadata": {},
   "source": [
    "\n",
    "Al observar la matriz de correlación, se pueden hacer varios análisis sobre la relación entre las variables del dataset\n",
    "\n",
    "- ***education_bachelors*** y ***education_masters***: Existe una correlación negativa alta de -0.89 entre estas dos variables. Esto es esperado, ya que un empleado no puede tener simultáneamente una licenciatura y una maestría. Este tipo de correlación es lógica porque ambas representan niveles educativos mutuamente excluyentes.\n",
    "- ***education_masters*** y ***education_phd***: La correlación negativa alta de -0.96 entre estas variables sugiere que, de manera similar, si un empleado tiene un título de maestría, es menos probable que tenga un PhD, ya que son títulos de educación diferentes y normalmente consecutivos.\n",
    "- ***city_bangalore*** y ***city_pune***: Existe una correlación negativa alta de -0.59 entre estas dos variables, lo que también tiene sentido, ya que si un empleado está ubicado en una ciudad, no estará en otra.\n",
    "- ***education_masters*** y ***city_new delhi***: Hay una correlación negativa moderada de -0.55, lo que sugiere que los empleados con maestría pueden ser menos propensos a trabajar en New Delhi, o viceversa.\n",
    "- ***city_bangalore*** y ***city_new delhi***: También existe una correlación negativa moderada de -0.43, indicando que empleados de Bangalore y New Delhi tienden a estar distribuidos de manera inversa.\n",
    "\n",
    "La mayoría de las demás variables muestran correlaciones muy bajas (cercanas a 0), lo que indica que no hay una fuerte relación lineal entre ellas.\n",
    "\n",
    "#### Posibles preguntas\n",
    "- ¿Por qué las variables de ciudad (Bangalore, Pune, New Delhi) muestran correlaciones negativas? ¿Hay alguna explicación organizacional para la distribución geográfica de los empleados?\n",
    "- ¿Se espera que los empleados tengan niveles de educación mutuamente excluyentes, o es posible que existan combinaciones de títulos?\n",
    "- ¿Por qué existe una fuerte relación inversa entre los niveles educativos? ¿Se refleja esto en la política de contratación de la empresa?\n",
    "- ¿Hay algún sesgo en la recolección de datos que pueda estar influyendo en las correlaciones observadas?\n",
    "- ¿Hay alguna política organizacional que explique las correlaciones negativas entre la educación y la ubicación?"
   ]
  },
  {
   "cell_type": "markdown",
   "id": "c66e0080-1ad0-47fb-ab12-0f362e1cc1a2",
   "metadata": {},
   "source": [
    "## Hipótesis:\n",
    "Los empleados con más experiencia en su dominio actual tienen menos probabilidades de abandonar la empresa (\"leave_or_not\").\n",
    "\n",
    "### Descripción coloquial:\n",
    "La idea detrás de esta hipótesis es que los empleados que han pasado más tiempo en su dominio actual probablemente estén más familiarizados con su trabajo, se sientan más cómodos y seguros en sus roles, y hayan desarrollado relaciones más fuertes con sus colegas y superiores. Esto podría hacer que estén menos inclinados a dejar la empresa, ya que cambiar de trabajo podría significar perder esas ventajas y tener que empezar de nuevo en un entorno desconocido.\n",
    "\n",
    "### Pasos para contrastar la hipótesis:\n",
    "Explorar la distribución de la variable de experiencia:\n",
    "Primero, vamos a observar cómo se distribuye la variable experience_in_current_domain entre los empleados que han dejado la empresa y los que no.\n",
    "\n",
    "### Análisis estadístico:\n",
    "Realizaremos un análisis estadístico para comparar la media de la experiencia en el dominio actual entre los empleados que dejaron la empresa y los que se quedaron. Esto se puede hacer utilizando una prueba t-test de muestras independientes.\n",
    "\n",
    "### Visualización:\n",
    "Crearemos un gráfico de caja (box plot) que compare la distribución de la experiencia en el dominio actual entre los dos grupos (quienes se fueron y quienes se quedaron)."
   ]
  },
  {
   "cell_type": "code",
   "execution_count": null,
   "id": "cc3c5a80-2172-429f-a718-672d2da4d4d4",
   "metadata": {},
   "outputs": [],
   "source": [
    "# Relación entre experience_in_current_domain y leave_or_not\n",
    "plt.figure(figsize=(10, 6))\n",
    "sns.boxplot(x='leave_or_not', hue='leave_or_not', y='experience_in_current_domain', data=df_employee, palette='viridis')\n",
    "plt.title('Relación entre Experiencia en el Dominio Actual y Rotación de Empleados')\n",
    "plt.xlabel('Dejó la Empresa (0 = No, 1 = Sí)')\n",
    "plt.ylabel('Experiencia en el Dominio Actual (años)')\n",
    "plt.show()"
   ]
  },
  {
   "cell_type": "code",
   "execution_count": null,
   "id": "18719d91-2a1e-4a82-bbf4-3f46be47bef4",
   "metadata": {},
   "outputs": [],
   "source": [
    "# Dividir los datos en dos grupos: quienes se fueron y quienes se quedaron\n",
    "experience_stayed = df_employee[df_employee['leave_or_not'] == 0]['experience_in_current_domain']\n",
    "experience_left = df_employee[df_employee['leave_or_not'] == 1]['experience_in_current_domain']\n",
    "\n",
    "# Prueba t-test\n",
    "t_stat, p_value = stats.ttest_ind(experience_stayed, experience_left)\n",
    "\n",
    "print(f\"T-statistic: {t_stat:.2f}\")\n",
    "print(f\"P-value: {p_value:.4f}\")\n",
    "\n",
    "# Interpretación\n",
    "if p_value < 0.05:\n",
    "    print(\"Existe una diferencia estadísticamente significativa en la experiencia entre quienes se quedaron y quienes se fueron.\")\n",
    "else:\n",
    "    print(\"No hay una diferencia estadísticamente significativa en la experiencia entre quienes se quedaron y quienes se fueron.\")\n"
   ]
  },
  {
   "cell_type": "markdown",
   "id": "4364303e-0dcc-411f-a27d-a7c063fe433c",
   "metadata": {},
   "source": [
    "### Interpretación de resultados\n",
    "#### T-statistic (2.08)\n",
    "Este valor indica la magnitud de la diferencia entre los dos grupos (empleados que se quedaron y empleados que se fueron) en términos de experiencia en su dominio actual. Un valor positivo sugiere que, en promedio, los empleados que se quedaron tienen más experiencia en su dominio actual que aquellos que se fueron.\n",
    "\n",
    "#### P-value (0.0375)\n",
    "Dado que el p-value es menor que el umbral de significancia comúnmente utilizado de 0.05, podemos concluir que la diferencia en experiencia entre los dos grupos es estadísticamente significativa. Esto significa que es poco probable que la diferencia observada se deba al azar.\n",
    "\n",
    "#### Conclusión:\n",
    "La hipótesis se valida, existe una diferencia significativa en la experiencia en el dominio actual entre los empleados que se quedaron y los que se fueron. Específicamente, parece que aquellos con más experiencia en su dominio actual tienen menos probabilidades de abandonar la empresa.\n",
    "\n"
   ]
  },
  {
   "cell_type": "code",
   "execution_count": null,
   "id": "71b1eff3-1377-40e2-a1be-3c6ca9465e3c",
   "metadata": {},
   "outputs": [],
   "source": []
  }
 ],
 "metadata": {
  "kernelspec": {
   "display_name": "Python 3 (ipykernel)",
   "language": "python",
   "name": "python3"
  },
  "language_info": {
   "codemirror_mode": {
    "name": "ipython",
    "version": 3
   },
   "file_extension": ".py",
   "mimetype": "text/x-python",
   "name": "python",
   "nbconvert_exporter": "python",
   "pygments_lexer": "ipython3",
   "version": "3.11.7"
  }
 },
 "nbformat": 4,
 "nbformat_minor": 5
}
